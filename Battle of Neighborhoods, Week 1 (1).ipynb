{
    "cells": [
        {
            "cell_type": "markdown",
            "metadata": {
                "collapsed": true
            },
            "source": "# Battle of Neighborhoods, Week 1"
        },
        {
            "cell_type": "markdown",
            "metadata": {},
            "source": "## 1. Introduction"
        },
        {
            "cell_type": "markdown",
            "metadata": {},
            "source": "### 1.1 Background"
        },
        {
            "cell_type": "markdown",
            "metadata": {},
            "source": "**Youngstown** is a city located in Mahoning County, Ohio, faced with hard times after the closing of Campbell Works, a steel mill, in 1977. Once known nationwide as a city of steel production, the closure had a devestating impact on the local economy. Since the 1960s-1970s, population decline has hit the city hard, with over 60% of residents relocating out of what is now known as the \"Rust Belt\": an area spanning many states around the Great Lakes facing deindutrialization, economic hardship, and population decline. However, as with many Rust Belt cities, there will always be steadfast individuals who will endure the hard times in hopes things will turn around. With a low cost of living (and a low barrier to entrepreneurship), Youngstown has recently seen a growing economy, thanks in large part to the robust restaurant scene. The heavy Italian population has provided the area with a plethora of Italian eateries, with a large focus on pizza places."
        },
        {
            "cell_type": "markdown",
            "metadata": {},
            "source": "### 1.2 Problem"
        },
        {
            "cell_type": "markdown",
            "metadata": {},
            "source": "With the ever-expanding selection of pizza in the Youngstown area, the industry is getting more and more competitive. Each owner believes his or her recipe should come out on top, but for a new business owner, selecting the proper location could be the difference between sinking or swimming in the sea of other pizza places. Therefore, this project aims to help an entrepreneur select the ideal location within the greater Youngstown area. The main areas of interest will be local competition as well as population within each of the cities in Mahoning County. By analyzing this data, the entrepreneur should have a better idea of where a new pizza restaurant will have the highest chance of success."
        },
        {
            "cell_type": "markdown",
            "metadata": {},
            "source": "### 1.3 Interest"
        },
        {
            "cell_type": "markdown",
            "metadata": {},
            "source": "While the specific data collected will primarily be of interest to local entrepreneurs seeking to open a new pizza restaurant, the data can be adjusted for use by anyone looking to open a new business venture in the Youngstown, Ohio area."
        },
        {
            "cell_type": "markdown",
            "metadata": {},
            "source": "## 2. Data Acquistion "
        },
        {
            "cell_type": "markdown",
            "metadata": {},
            "source": "### 2.1 Data Sources"
        },
        {
            "cell_type": "markdown",
            "metadata": {},
            "source": "The primary data source from which venue data will be scraped is, of course, [Foursquare](https://foursquare.com/). This will provide a wonderful idea of how common pizza places are within the Youngstown area, and how much competition there may be for any new businesses. I have also found a wonderful dataset in Zip-Codes.com, which can be found [here](https://www.zip-codes.com/county/oh-mahoning.asp). This will provide both the zip codes and population data necessary to answer the primary business problem."
        },
        {
            "cell_type": "markdown",
            "metadata": {},
            "source": "### 2.2 Data Cleaning"
        },
        {
            "cell_type": "markdown",
            "metadata": {},
            "source": "After the data was collected and scraped, it was collected into one table. It became apparent that because the population of some of the zip codes in Mahoning County was 0, these zip codes were actually P.O. Boxes; these zip codes were removed from the final dataset, as there are no venues actually utilizing these zip codes, and the population data would skew analysis in population density. \n\nAdditionally, the initial table also contained some duplicate data. A handful of zip codes in the greater Youngstown area were located in two different areas; these usually ocurred in suburbs directly adjacent to the city of Youngstown, in which case the \"Youngstown\" zip code was omitted from the final dataset. This was to avoid doubling up of venue and population data."
        },
        {
            "cell_type": "markdown",
            "metadata": {},
            "source": "### 2.3 Feature Selection"
        },
        {
            "cell_type": "markdown",
            "metadata": {},
            "source": "After data cleaning, there were 26 unique zip codes comprising of 18 different locations within Mahoning County featured in the data. The geographic area covered included 80 unique venue types for a total of 164 venues overall. \n\nOf these 164 venues, pizza places were the most important venue type determining competetion. However, as many Youngstown pizza shops also serve Italian food (and vice versa), Italian restaurants are another important venue to analyze. Additionally, both hot dog and sandwich shops were included in the venues to be looked at as potential competition to a new pizza place, owing to their fast, casual dining experience."
        },
        {
            "cell_type": "code",
            "execution_count": null,
            "metadata": {},
            "outputs": [],
            "source": ""
        }
    ],
    "metadata": {
        "kernelspec": {
            "display_name": "Python 3.7",
            "language": "python",
            "name": "python3"
        },
        "language_info": {
            "codemirror_mode": {
                "name": "ipython",
                "version": 3
            },
            "file_extension": ".py",
            "mimetype": "text/x-python",
            "name": "python",
            "nbconvert_exporter": "python",
            "pygments_lexer": "ipython3",
            "version": "3.7.10"
        }
    },
    "nbformat": 4,
    "nbformat_minor": 1
}